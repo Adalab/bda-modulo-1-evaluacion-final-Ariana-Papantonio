{
 "cells": [
  {
   "cell_type": "code",
   "execution_count": 48,
   "metadata": {},
   "outputs": [],
   "source": [
    "# # # Evaluación Final Módulo 1\n",
    "\n",
    "# # ## Instrucciones:\n",
    "\n",
    "# # - Antes de empezar, hay que crear un nuevo repositorio desde GitHub Classroom usando este [enlace](https://classroom.github.com/a/irgzJ0KJ). Una vez creado, hay que clonar en nuestro ordenador y en la carpeta creada empezaremos a trabajar en el ejercicio.\n",
    "\n",
    "# # - Esta evaluación consta de una serie de preguntas que evalúan tu comprensión y habilidades en relación con funciones, clases y regex.\n",
    "\n",
    "# # - Puedes usar recursos externos, incluyendo internet y materiales de referencia o tus propias notas.\n",
    "\n",
    "# # - Completa los ejercicios en un jupyter notebook.\n",
    "\n",
    "# ## Ejercicio\n",
    "\n",
    "# - A lo largo de esta evaluación tendrás que crear una clase llamada `TiendaOnline` que cumpla los siguientes requisitos:\n",
    "\n",
    "#     - La clase `TiendaOnline` debe tener los siguientes atributos:\n",
    "\n",
    "#         1. `inventario` (lista de diccionarios): Un atributo para almacenar los productos en el inventario. Cada producto debe ser representado como un diccionario con las siguientes claves: `'nombre'`, `'precio'`, y `'cantidad'`. Al principio deberá ser una lista vacía. Ejemplo de como debería ser:\n",
    "\n",
    "#             ```python\n",
    "#             [{'nombre': 'Camisa', 'precio': 20, 'cantidad': 40},\n",
    "#             {'nombre': 'Pantalón', 'precio': 30, 'cantidad': 30}]\n",
    "#             ```\n",
    "\n",
    "#         2. `clientes` (diccionario): Un atributo para llevar un registro de los clientes de la tienda. Cada cliente debe ser representado como un diccionario con las siguientes claves: `'nombre'` y `'email'`. Al inicio deberá ser un diccionario vacío. Además, cada cliente debe tener un historial de compras. Deberá parecerse a:\n",
    "\n",
    "#             ```python\n",
    "#             {'Cliente1': {'email': 'cliente1@email.com', 'compras': []},\n",
    "#             'Cliente2': {'email': 'cliente2@email.com', 'compras': []}}\n",
    "#             ```\n",
    "\n",
    "#         3. `ventas_totales` (float): Un atributo para llevar un registro de las ventas totales de la tienda. Inicializalo con valor 0. \n",
    "\n",
    "#     - La clase `TiendaOnline` debe tener los siguientes métodos:\n",
    "\n",
    "#         1. `agregar_producto(self, nombre, precio, cantidad)`: Este método agrega un producto al inventario o actualiza su cantidad si ya existe. Debe recibir el nombre, precio y cantidad del producto como parámetros. \n",
    "\n",
    "#             - Itera a través del inventario y compara los nombres de los productos con el nombre proporcionado.\n",
    "\n",
    "#             - Si el producto ya existe, actualiza la cantidad.\n",
    "\n",
    "#             - Si no existe, agrega un nuevo producto al inventario.\n",
    "\n",
    "#         2. `ver_inventario(self)`: Muestra el inventario de productos con sus detalles.\n",
    "\n",
    "#             - Utiliza un bucle `for` para recorrer el inventario.\n",
    "\n",
    "#             - Imprime los detalles (nombre, precio, cantidad) de cada producto.\n",
    "\n",
    "#             - Debería verse:\n",
    "\n",
    "#                 ```python\n",
    "#                 Nombre: Camisa, Precio: $20, Cantidad: 50\n",
    "#                 Nombre: Pantalón, Precio: $30, Cantidad: 30\n",
    "#                 Nombre: Zapatos, Precio: $50, Cantidad: 40\n",
    "#                 Nombre: Camisa, Precio: $20, Cantidad: 50\n",
    "#                 ```\n",
    "\n",
    "#         3. `buscar_producto(self, nombre)`: Busca un producto en el inventario por nombre y muestra sus detalles si se encuentra. Debe recibir el nombre del producto como parámetro.\n",
    "\n",
    "#             - Utiliza un bucle `for` para recorrer el inventario.\n",
    "\n",
    "#             - Compara los nombres de los productos con el nombre proporcionado.\n",
    "\n",
    "#             - Si se encuentra el producto, imprime sus detalles.\n",
    "\n",
    "#             - Debe mostrar:\n",
    "\n",
    "#                 ```python\n",
    "#                 Nombre: Camisa, Precio: $20, Cantidad: 40\n",
    "#                 ```\n",
    "\n",
    "#         4. `actualizar_stock(self, nombre, cantidad)`: Actualiza el stock de un producto en el inventario. Debe recibir el nombre del producto y la cantidad a agregar o quitar como parámetros.\n",
    "\n",
    "#            - Utiliza un bucle `for` para recorrer el inventario.\n",
    "\n",
    "#            - Busca el producto por nombre.\n",
    "\n",
    "#            - Actualiza la cantidad según la entrada del usuario.\n",
    "\n",
    "#            - Si el producto no esta en el inventario muestra un mensaje indicándolo. \n",
    "\n",
    "#         5. `eliminar_producto(self, nombre)`: Elimina un producto del inventario por nombre. Debe recibir el nombre del producto como parámetro.\n",
    "\n",
    "#             - Utiliza un bucle `for` para recorrer el inventario.\n",
    "\n",
    "#             - Busca el producto por nombre.\n",
    "\n",
    "#             - Elimina el producto del inventario si existe.\n",
    "\n",
    "#             - Si el producto no esta en el inventario muestra un mensaje indicándolo. \n",
    "\n",
    "\n",
    "#         6. `calcular_valor_inventario(self)`: Calcula y muestra el valor total del inventario.\n",
    "\n",
    "#             - Utiliza un bucle for para calcular el valor total del inventario.\n",
    "\n",
    "#             - Itera a través del inventario y suma el valor de cada producto (precio x cantidad). Es decir, calcula el valor total del inventario. Ejemplo:\n",
    "\n",
    "#                 ```python\n",
    "#                 # si tenemos 5 camisas que valen 5 euros \n",
    "#                 # y 10 calcetines que valen 1 euro\n",
    "#                 # este método te tiene que devolver: 35 euros\n",
    "\n",
    "#                 valor_camisas = 5 * 5\n",
    "#                 valor_calcetines = 10 * 1\n",
    "\n",
    "#                 valor_camisas + valor_calcetines = 35\n",
    "#                 ```\n",
    "\n",
    "\n",
    "#         7. `realizar_compra(self)`: Permite a un cliente realizar una compra seleccionando productos del inventario. Debe interactuar con el cliente para seleccionar productos y calcular el costo total de la compra.\n",
    "\n",
    "#             - Utiliza un bucle `while` para permitir al cliente realizar múltiples compras.\n",
    "\n",
    "#             - Muestra el inventario y solicita al cliente ingresar el nombre del producto que desea comprar.\n",
    "\n",
    "#             - Registra los productos seleccionados en un carrito y actualiza el inventario.\n",
    "\n",
    "#             - Calcula el costo total de la compra.\n",
    "\n",
    "#         �� A partir de este punto los ejercicios son voluntarios:\n",
    "        \n",
    "\n",
    "#         8. `procesar_pago(self)`: Procesa el pago de una compra, calcula el cambio y muestra un mensaje de confirmación.\n",
    "\n",
    "#             - Utiliza un bloque `try...except` para manejar excepciones.\n",
    "\n",
    "#             - Solicita al cliente ingresar la cantidad total y la cantidad de pago usando un input.\n",
    "\n",
    "#             - Calcula el cambio y muestra un mensaje de pago exitoso o un error en caso de monto insuficiente.\n",
    "\n",
    "#         9. `agregar_cliente(self, nombre, email)`: Agrega un nuevo cliente al registro de clientes. Debe recibir el nombre y el correo electrónico del cliente como parámetros.\n",
    "\n",
    "#             - Agrega un cliente al diccionario de clientes con su nombre y correo electrónico.\n",
    "\n",
    "#         10. `ver_clientes(self)`: Muestra la lista de clientes registrados con sus nombres y correos electrónicos.\n",
    "\n",
    "#             - Utiliza un bucle `for` para recorrer la base de datos de clientes.\n",
    "\n",
    "#             - Imprime los detalles de cada cliente (nombre y correo electrónico).\n",
    "\n",
    "#         11. `registrar_compra(self, nombre_cliente, carrito)`: Registra una compra para un cliente, actualiza las ventas totales y agrega la compra al historial del cliente. Debe recibir el nombre del cliente y el carrito de compras como parámetros.\n",
    "\n",
    "#             - Busca al cliente en el diccionario de clientes.\n",
    "\n",
    "#             - Si el cliente no esta en el diccionario de clientes, muestra que no se puede realizar la acción por que el cliente no está en el diccionario. \n",
    "\n",
    "#             - Calcula el total de la compra y registra la compra, incluyendo los productos y el total.\n",
    "\n",
    "#             - Ejemplo:\n",
    "\n",
    "#                 ```python\n",
    "#                 carrito_cliente1 = {\"Camisa\": {\"precio\": 20, \"cantidad\": 3}}\n",
    "#                 tienda.registrar_compra(\"Cliente1\", carrito_cliente1)\n",
    "#                 ```\n",
    "\n",
    "#         12. `ver_compras_cliente(self, nombre_cliente)`: Muestra el historial de compras de un cliente. Debe recibir el nombre del cliente como parámetro.\n",
    "\n",
    "#             - Busca al cliente en el diccionario de clientes.\n",
    "\n",
    "#             - Muestra las compras realizadas por el cliente, incluyendo detalles de productos y totales.\n",
    "\n",
    "#         13. `calcular_ventas_totales(self)`: Muestra las ventas totales de la tienda.\n",
    "\n",
    "#             - Suma los totales de todas las compras realizadas y muestra el total de ventas totales en la tienda.\n",
    "\n",
    "# - Instrucciones Adicionales:\n",
    "\n",
    "#     - Debes crear instancias de la clase `TiendaOnline` y probar cada uno de los métodos para demostrar que funcionan correctamente.\n",
    "\n",
    "\n",
    "\n",
    "# ## Normas\n",
    "\n",
    "# Este ejercicio está pensado para que lo realices de forma individual en clase, pero podrás consultar tus dudas con la profesora y tus compañeras si lo consideras necesario. Ellas no te darán directamente la solución de tu duda, pero sí pistas para poder solucionarla. Aún facilitando la comunicación entre compañeras, durante la prueba no debes copiar código de otra persona ni acceder a su portátil. Confiamos en tu responsabilidad.\n",
    "\n",
    "# La evaluación es una buena oportunidad para conocer cómo estás progresando, saber qué temas debes reforzar durante las siguientes semanas y cuáles dominas. Te recomendamos que te sientas cómoda con el ejercicio que entregues y no envíes cosas copiadas que no entiendas.\n",
    "\n",
    "# Si detectamos que has entregado código que no es tuyo, no entiendes y no lo puedes defender, pasarás directamente a la re-evaluación del módulo. Tu objetivo no debería ser pasar la evaluación sino convertirte en analisat de datos, y esto debes tenerlo claro en todo momento.\n",
    "\n",
    "# Una vez entregado el ejercicio realizarás una revisión del mismo con la profesora (20 minutos), que se asemenjará a una entrevista técnica: te pedirá que expliques las decisiones tomadas para realizarlo.\n",
    "\n",
    "# Es una oportunidad para practicar la dinámica de una entrevista técnica donde te van a proponer cambios sobre tu código que no conoces a priori. Si evitas que otras compañeras te den pistas sobre la dinámica de feedback, podrás aprovecharlo como una práctica y pasar los nervios con la profesora en lugar de en tu primera entrevista de trabajo.\n",
    "\n",
    "# Al final tendrás un feedback sobre aspectos a destacar y a mejorar en tu ejercicio, y sabrás qué objetivos de aprendizaje has supera\n",
    "\n",
    "# ## Criterios de evaluación\n",
    "\n",
    "# Vamos a listar los criterios de evaluación de este ejercicio. Si no superas al menos el 80% de estos criterios o no has superado algún criterio clave (marcados con \\*) te pediremos que realices una re-evaluación con el fin de que termines el curso mejor preparada y enfrentes tu primera experiencia profesional con más seguridad. En caso contrario, estás aprendiendo al ritmo que hemos pautado para poder afrontar los conocimientos del siguiente módulo.\n",
    "\n",
    "# ### Python Básico\n",
    "# - Condicionales (if, elif, else) *\n",
    "# - Bucles (for y while). Importante entender cómo iterar por una lista, o un diccionario. * \n",
    "# - Funciones (creación de funciones con parámetros, parámetros por defecto) *\n",
    "# - Conceptos básicos de regex * \n",
    "# - Clases\n",
    "# - Diferencias entre los distintos tipos de datos en python (strings, listas, tuplas, sets y diccionarios) *\n",
    "\n",
    "# ### Otros criterios a tener en cuenta\n",
    "\n",
    "# - Usar inglés para nombres de variables, funciones, clases, mensajes de commit, nombres de ficheros.\n",
    "# - El repositorio de GitHub debe tener README explicando muy brevemente cómo arrancar el proyecto.\n",
    "\n",
    "# ¡Al turrón!\n"
   ]
  },
  {
   "cell_type": "code",
   "execution_count": 49,
   "metadata": {},
   "outputs": [],
   "source": [
    "#Creo clase y atributos: \n",
    "\n",
    "class TiendaOnline: \n",
    "\n",
    "    def __init__(self):\n",
    "        \n",
    "        self.inventario = [] \n",
    "        self.clientes = {} \n",
    "        self.ventas_totales = 0\n",
    "    \n",
    "  # MÉTODO AGREGAR PRODUCTO: creo un método para agregar productos al inventario: \n",
    "\n",
    "    def agregar_producto(self, nombre_producto, precio, cantidad): \n",
    "\n",
    "        #los productos en formato diccionario para añadir a la lista del inventario: \n",
    "        producto = {'nombre': nombre_producto, 'precio': precio, 'cantidad': cantidad}\n",
    "\n",
    "        # Recorrer el inventario para verificar si el producto ya existe: \n",
    "        for i in self.inventario: \n",
    "            if i['nombre'] == producto['nombre']: \n",
    "                i['cantidad'] += producto['cantidad']\n",
    "                print(f'La cantidad de {nombre_producto} ha sido actualizada. Ahora hay {i[\"cantidad\"]} {nombre_producto}.')\n",
    "                break\n",
    "        #En caso que no exista, se añade a la lista.\n",
    "        else:\n",
    "            self.inventario.append(producto)\n",
    "            print('El producto se ha añadido al inventario.')\n",
    "\n",
    "\n",
    "  # MÉTODO MOSTRAR PRODUCTOS: creo un método para mostrar los productos del inventario: \n",
    "\n",
    "    def ver_inventario(self):\n",
    "\n",
    "      #Creo una variable con los detalles para almacenar los detalles de cada producto. \n",
    "        detalles = [] \n",
    "\n",
    "      #Bucle for: para que recorra cada diccionario (prod) y tome cada una de las claves del diccionario (nombre, precio y cantidad)\n",
    "\n",
    "        for prod in self.inventario: \n",
    "           \n",
    "            detalles.append(f\"Nombre: {prod['nombre']}, Precio: ${prod['precio']}, Cantidad: {prod['cantidad']}\")\n",
    "        \n",
    "        #Imprimir cada elemento y no la lista entera: \n",
    "        for i in detalles: \n",
    "            print(i)\n",
    "\n",
    "\n",
    "  # MÉTODO BUSCAR PRODUCTOS: creo un método para buscar productos en el inventario: \n",
    "    \n",
    "    def buscar_producto(self,nombre): \n",
    "      \n",
    "        for i in self.inventario: #bucle for para que itere en cada diccionario de la lista. Si el diccionario (i) en su clave 'nombre' coincide con el nombre proporcionado en la función, se imprimen los detalles: \n",
    "\n",
    "          if i['nombre'] == nombre:\n",
    "            print(f\"Nombre: {i['nombre']}, Precio: ${i['precio']}, Cantidad: {i['cantidad']}.\")\n",
    "            break \n",
    "\n",
    "          else: \n",
    "              print('El producto no se encuentra en el inventario')\n",
    "         \n",
    "\n",
    "  # MÉTODO ACTUALIZAR STOCK: creo un método para actualizar el stock de un producto:\n",
    "    def actualizar_stock(self,nombre,cantidad): \n",
    "      \n",
    "        for i in self.inventario: #bucle for para verificar si dentro de los diccionarios (i) el nombre coincide con el proporcionado por el usuario. De ser asi, se añade la cantidad a la que ya se encuentra en el diccionario. \n",
    "            \n",
    "            if i['nombre'] == nombre: \n",
    "                i['cantidad'] += cantidad\n",
    "                print(f\"Se ha actualizado el stock del producto. La cantidad disponible actualmente es de: {i['cantidad']} {i['nombre']}.\")\n",
    "                break \n",
    "            \n",
    "        else:\n",
    "           print('El producto no se encuentra en el inventario.')\n",
    "\n",
    "\n",
    "#METODO ELIMINAR PRODUCTO: creo un método para eliminar un producto del inventario: \n",
    "\n",
    "    def eliminar_producto(self,nombre):\n",
    "\n",
    "      for i in self.inventario: \n",
    "           \n",
    "           if i['nombre'] == nombre: \n",
    "               self.inventario.remove(i) \n",
    "               print(f\"El producto: {i['nombre']} se ha eliminado del inventario.\")\n",
    "               break\n",
    "      else: \n",
    "          print('El producto no se encuentra en el inventario.')\n",
    "\n",
    "\n",
    "#METODO CALCULAR VALOR INVENTARIO: calcular el valor total del inventario:\n",
    "\n",
    "\n",
    "    def calcular_valor_inventario(self):\n",
    "\n",
    "     suma_valores = 0\n",
    "\n",
    "     for i in self.inventario:\n",
    "        multi = i['cantidad'] * i['precio']\n",
    "        suma_valores += multi\n",
    "\n",
    "     print(f'El valor total del inventario es de ${suma_valores}.') #el print va fuera para que no aparezca una linea por cada multi \n",
    "\n",
    "\n",
    "# METODO REALIZAR COMPRA: el cliente realiza una compra. Se actualiza el inventario, se registran los productos en un carrito y se obtiene el total de la compra. \n",
    "\n",
    "    def realizar_compra(self):\n",
    "        carrito = []\n",
    "        total_compra = 0\n",
    "\n",
    "        while True:\n",
    "            \n",
    "            self.ver_inventario()\n",
    "            \n",
    "            seleccion_usuario = input(\"Escoge un producto del inventario o indica 'salir' para finalizar la compra: \")\n",
    "\n",
    "            if seleccion_usuario == 'salir':\n",
    "                break\n",
    "\n",
    "            for i in self.inventario:\n",
    "                if i['nombre'] == seleccion_usuario:\n",
    "                    cantidad = int(input(f\"¿Cuántos {seleccion_usuario} deseas comprar?: \"))\n",
    "\n",
    "                    if i['cantidad'] >= cantidad:\n",
    "                        total_compra += i['precio'] * cantidad\n",
    "                        i['cantidad'] -= cantidad\n",
    "                        carrito.append({'nombre': i['nombre'], 'precio': i['precio'], 'cantidad': cantidad}) \n",
    "\n",
    "                        print('Añadido al carrito')\n",
    "                    else:\n",
    "                        print('No hay stock suficiente')\n",
    "                    break\n",
    "            else:\n",
    "                print('El producto no ha sido encontrado')\n",
    "\n",
    "        print(f\"Los productos seleccionados son: {carrito}. El total de la compra es de ${total_compra}.\")"
   ]
  },
  {
   "cell_type": "code",
   "execution_count": 50,
   "metadata": {},
   "outputs": [],
   "source": [
    "#Almaceno la clase en una variable\n",
    "\n",
    "veterinaria = TiendaOnline()"
   ]
  },
  {
   "cell_type": "code",
   "execution_count": 51,
   "metadata": {},
   "outputs": [
    {
     "name": "stdout",
     "output_type": "stream",
     "text": [
      "El producto se ha añadido al inventario.\n"
     ]
    }
   ],
   "source": [
    "veterinaria.agregar_producto('correas', 30, 10)"
   ]
  },
  {
   "cell_type": "code",
   "execution_count": 52,
   "metadata": {},
   "outputs": [
    {
     "data": {
      "text/plain": [
       "{'inventario': [{'nombre': 'correas', 'precio': 30, 'cantidad': 10}],\n",
       " 'clientes': {},\n",
       " 'ventas_totales': 0}"
      ]
     },
     "execution_count": 52,
     "metadata": {},
     "output_type": "execute_result"
    }
   ],
   "source": [
    "veterinaria.__dict__"
   ]
  },
  {
   "cell_type": "code",
   "execution_count": 53,
   "metadata": {},
   "outputs": [
    {
     "name": "stdout",
     "output_type": "stream",
     "text": [
      "La cantidad de correas ha sido actualizada. Ahora hay 30 correas.\n"
     ]
    }
   ],
   "source": [
    "veterinaria.agregar_producto('correas',30,20)"
   ]
  },
  {
   "cell_type": "code",
   "execution_count": 54,
   "metadata": {},
   "outputs": [
    {
     "data": {
      "text/plain": [
       "{'inventario': [{'nombre': 'correas', 'precio': 30, 'cantidad': 30}],\n",
       " 'clientes': {},\n",
       " 'ventas_totales': 0}"
      ]
     },
     "execution_count": 54,
     "metadata": {},
     "output_type": "execute_result"
    }
   ],
   "source": [
    "veterinaria.__dict__"
   ]
  },
  {
   "cell_type": "code",
   "execution_count": 55,
   "metadata": {},
   "outputs": [
    {
     "name": "stdout",
     "output_type": "stream",
     "text": [
      "El producto se ha añadido al inventario.\n"
     ]
    }
   ],
   "source": [
    "veterinaria.agregar_producto('pienso', 40, 50)"
   ]
  },
  {
   "cell_type": "code",
   "execution_count": 56,
   "metadata": {},
   "outputs": [
    {
     "name": "stdout",
     "output_type": "stream",
     "text": [
      "El producto se ha añadido al inventario.\n"
     ]
    }
   ],
   "source": [
    "veterinaria.agregar_producto('juguetes', 20, 10)"
   ]
  },
  {
   "cell_type": "code",
   "execution_count": 57,
   "metadata": {},
   "outputs": [
    {
     "data": {
      "text/plain": [
       "{'inventario': [{'nombre': 'correas', 'precio': 30, 'cantidad': 30},\n",
       "  {'nombre': 'pienso', 'precio': 40, 'cantidad': 50},\n",
       "  {'nombre': 'juguetes', 'precio': 20, 'cantidad': 10}],\n",
       " 'clientes': {},\n",
       " 'ventas_totales': 0}"
      ]
     },
     "execution_count": 57,
     "metadata": {},
     "output_type": "execute_result"
    }
   ],
   "source": [
    "veterinaria.__dict__"
   ]
  },
  {
   "cell_type": "code",
   "execution_count": 58,
   "metadata": {},
   "outputs": [
    {
     "name": "stdout",
     "output_type": "stream",
     "text": [
      "Nombre: correas, Precio: $30, Cantidad: 30\n",
      "Nombre: pienso, Precio: $40, Cantidad: 50\n",
      "Nombre: juguetes, Precio: $20, Cantidad: 10\n"
     ]
    }
   ],
   "source": [
    "veterinaria.ver_inventario()"
   ]
  },
  {
   "cell_type": "code",
   "execution_count": 59,
   "metadata": {},
   "outputs": [
    {
     "name": "stdout",
     "output_type": "stream",
     "text": [
      "Nombre: correas, Precio: $30, Cantidad: 30.\n"
     ]
    }
   ],
   "source": [
    "veterinaria.buscar_producto('correas')"
   ]
  },
  {
   "cell_type": "code",
   "execution_count": 60,
   "metadata": {},
   "outputs": [
    {
     "data": {
      "text/plain": [
       "{'inventario': [{'nombre': 'correas', 'precio': 30, 'cantidad': 30},\n",
       "  {'nombre': 'pienso', 'precio': 40, 'cantidad': 50},\n",
       "  {'nombre': 'juguetes', 'precio': 20, 'cantidad': 10}],\n",
       " 'clientes': {},\n",
       " 'ventas_totales': 0}"
      ]
     },
     "execution_count": 60,
     "metadata": {},
     "output_type": "execute_result"
    }
   ],
   "source": [
    "veterinaria.__dict__"
   ]
  },
  {
   "cell_type": "code",
   "execution_count": 61,
   "metadata": {},
   "outputs": [
    {
     "name": "stdout",
     "output_type": "stream",
     "text": [
      "Se ha actualizado el stock del producto. La cantidad disponible actualmente es de: 50 correas.\n"
     ]
    }
   ],
   "source": [
    "veterinaria.actualizar_stock('correas', 20)"
   ]
  },
  {
   "cell_type": "code",
   "execution_count": 62,
   "metadata": {},
   "outputs": [
    {
     "name": "stdout",
     "output_type": "stream",
     "text": [
      "El producto no se encuentra en el inventario.\n"
     ]
    }
   ],
   "source": [
    "veterinaria.actualizar_stock('banana', 2)"
   ]
  },
  {
   "cell_type": "code",
   "execution_count": 63,
   "metadata": {},
   "outputs": [
    {
     "name": "stdout",
     "output_type": "stream",
     "text": [
      "El producto: juguetes se ha eliminado del inventario.\n"
     ]
    }
   ],
   "source": [
    "veterinaria.eliminar_producto('juguetes')"
   ]
  },
  {
   "cell_type": "code",
   "execution_count": 64,
   "metadata": {},
   "outputs": [
    {
     "name": "stdout",
     "output_type": "stream",
     "text": [
      "El producto no se encuentra en el inventario.\n"
     ]
    }
   ],
   "source": [
    "veterinaria.eliminar_producto('golosinas')"
   ]
  },
  {
   "cell_type": "code",
   "execution_count": 65,
   "metadata": {},
   "outputs": [
    {
     "data": {
      "text/plain": [
       "{'inventario': [{'nombre': 'correas', 'precio': 30, 'cantidad': 50},\n",
       "  {'nombre': 'pienso', 'precio': 40, 'cantidad': 50}],\n",
       " 'clientes': {},\n",
       " 'ventas_totales': 0}"
      ]
     },
     "execution_count": 65,
     "metadata": {},
     "output_type": "execute_result"
    }
   ],
   "source": [
    "veterinaria.__dict__"
   ]
  },
  {
   "cell_type": "code",
   "execution_count": 66,
   "metadata": {},
   "outputs": [
    {
     "name": "stdout",
     "output_type": "stream",
     "text": [
      "El valor total del inventario es de $3500.\n"
     ]
    }
   ],
   "source": [
    "veterinaria.calcular_valor_inventario()"
   ]
  },
  {
   "cell_type": "code",
   "execution_count": 67,
   "metadata": {},
   "outputs": [
    {
     "name": "stdout",
     "output_type": "stream",
     "text": [
      "El producto se ha añadido al inventario.\n",
      "El producto se ha añadido al inventario.\n"
     ]
    }
   ],
   "source": [
    "veterinaria.agregar_producto('vacuna',35,70)\n",
    "veterinaria.agregar_producto('antiparasitario',25,60)"
   ]
  },
  {
   "cell_type": "code",
   "execution_count": 68,
   "metadata": {},
   "outputs": [
    {
     "data": {
      "text/plain": [
       "{'inventario': [{'nombre': 'correas', 'precio': 30, 'cantidad': 50},\n",
       "  {'nombre': 'pienso', 'precio': 40, 'cantidad': 50},\n",
       "  {'nombre': 'vacuna', 'precio': 35, 'cantidad': 70},\n",
       "  {'nombre': 'antiparasitario', 'precio': 25, 'cantidad': 60}],\n",
       " 'clientes': {},\n",
       " 'ventas_totales': 0}"
      ]
     },
     "execution_count": 68,
     "metadata": {},
     "output_type": "execute_result"
    }
   ],
   "source": [
    "veterinaria.__dict__"
   ]
  },
  {
   "cell_type": "code",
   "execution_count": 69,
   "metadata": {},
   "outputs": [
    {
     "name": "stdout",
     "output_type": "stream",
     "text": [
      "Nombre: correas, Precio: $30, Cantidad: 50\n",
      "Nombre: pienso, Precio: $40, Cantidad: 50\n",
      "Nombre: vacuna, Precio: $35, Cantidad: 70\n",
      "Nombre: antiparasitario, Precio: $25, Cantidad: 60\n"
     ]
    }
   ],
   "source": [
    "veterinaria.ver_inventario()"
   ]
  },
  {
   "cell_type": "code",
   "execution_count": 70,
   "metadata": {},
   "outputs": [
    {
     "name": "stdout",
     "output_type": "stream",
     "text": [
      "Nombre: correas, Precio: $30, Cantidad: 50\n",
      "Nombre: pienso, Precio: $40, Cantidad: 50\n",
      "Nombre: vacuna, Precio: $35, Cantidad: 70\n",
      "Nombre: antiparasitario, Precio: $25, Cantidad: 60\n",
      "Añadido al carrito\n",
      "Nombre: correas, Precio: $30, Cantidad: 50\n",
      "Nombre: pienso, Precio: $40, Cantidad: 40\n",
      "Nombre: vacuna, Precio: $35, Cantidad: 70\n",
      "Nombre: antiparasitario, Precio: $25, Cantidad: 60\n",
      "No hay stock suficiente\n",
      "Nombre: correas, Precio: $30, Cantidad: 50\n",
      "Nombre: pienso, Precio: $40, Cantidad: 40\n",
      "Nombre: vacuna, Precio: $35, Cantidad: 70\n",
      "Nombre: antiparasitario, Precio: $25, Cantidad: 60\n",
      "Añadido al carrito\n",
      "Nombre: correas, Precio: $30, Cantidad: 50\n",
      "Nombre: pienso, Precio: $40, Cantidad: 40\n",
      "Nombre: vacuna, Precio: $35, Cantidad: 65\n",
      "Nombre: antiparasitario, Precio: $25, Cantidad: 60\n",
      "Los productos seleccionados son: [{'nombre': 'pienso', 'precio': 40, 'cantidad': 10}, {'nombre': 'vacuna', 'precio': 35, 'cantidad': 5}]. El total de la compra es de $575.\n"
     ]
    }
   ],
   "source": [
    "veterinaria.realizar_compra()"
   ]
  }
 ],
 "metadata": {
  "kernelspec": {
   "display_name": "Python 3",
   "language": "python",
   "name": "python3"
  },
  "language_info": {
   "codemirror_mode": {
    "name": "ipython",
    "version": 3
   },
   "file_extension": ".py",
   "mimetype": "text/x-python",
   "name": "python",
   "nbconvert_exporter": "python",
   "pygments_lexer": "ipython3",
   "version": "3.11.9"
  }
 },
 "nbformat": 4,
 "nbformat_minor": 2
}
