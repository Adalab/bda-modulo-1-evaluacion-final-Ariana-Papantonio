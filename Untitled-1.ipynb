{
 "cells": [
  {
   "cell_type": "code",
   "execution_count": 25,
   "metadata": {},
   "outputs": [
    {
     "name": "stdout",
     "output_type": "stream",
     "text": [
      "[{'nombre': 'pomelo', 'precio': 10, 'cantidad': 50}]\n",
      "[{'nombre': 'pomelo', 'precio': 10, 'cantidad': 150}, {'nombre': 'naranja', 'precio': 8, 'cantidad': 160}]\n"
     ]
    }
   ],
   "source": [
    "### METODO 1 PRACTICA###\n",
    "\n",
    "#Creo un método para agregar productos al inventario \n",
    "\n",
    "#1) Creo una lista vacia para almacenar los productos\n",
    "lista_vacia = []\n",
    "\n",
    "#2) Creo las variables de productos \n",
    "prod1 = {'nombre':'pomelo', 'precio': 10, 'cantidad': 50} \n",
    "prod2 = {'nombre':'pomelo', 'precio': 10, 'cantidad': 100}\n",
    "prod3 = {'nombre': 'naranja', 'precio': 8, 'cantidad': 80}\n",
    "\n",
    "#3) Bucle for para que compruebe si el producto esta en la lista y si esta que se añada la nueva cantidad. En caso que no esté, se añade el producto \n",
    "for prod in lista_vacia:\n",
    "    if prod['nombre'] == prod1['nombre']: \n",
    "        prod['cantidad'] += prod1['cantidad']\n",
    "        break\n",
    "\n",
    "else: \n",
    "    lista_vacia.append(prod1)\n",
    "        \n",
    "print(lista_vacia)\n",
    "\n",
    "for prod in lista_vacia: \n",
    "    if prod['nombre'] == prod2['nombre']: \n",
    "        prod['cantidad'] += prod2['cantidad']\n",
    "        break\n",
    "\n",
    "    else: \n",
    "        lista_vacia.append(prod2)\n",
    "\n",
    "for prod in lista_vacia: \n",
    "    if prod['nombre'] == prod3['nombre']: \n",
    "        prod['cantidad'] += prod3['cantidad']\n",
    "        break\n",
    "\n",
    "    else: \n",
    "        lista_vacia.append(prod3)\n",
    "\n",
    "\n",
    "        \n",
    "print(lista_vacia)"
   ]
  },
  {
   "cell_type": "code",
   "execution_count": 19,
   "metadata": {},
   "outputs": [
    {
     "data": {
      "text/plain": [
       "[{'nombre': 'Pomelo', 'precio': 10, 'cantidad': 150},\n",
       " {'nombre': 'Naranja', 'precio': 8, 'cantidad': 160}]"
      ]
     },
     "execution_count": 19,
     "metadata": {},
     "output_type": "execute_result"
    }
   ],
   "source": [
    "lista_vacia"
   ]
  },
  {
   "cell_type": "code",
   "execution_count": 23,
   "metadata": {},
   "outputs": [
    {
     "name": "stdout",
     "output_type": "stream",
     "text": [
      "{'nombre': 'camisa', 'precio': 20, 'cantidad': 50}\n",
      "{'nombre': 'pantalon', 'precio': 30, 'cantidad': 20}\n",
      "El nombre es camisa\n",
      "El nombre es pantalon\n",
      "El nombre es: camisa, el precio es: $20, y la cantidad es 50\n",
      "El nombre es: pantalon, el precio es: $30, y la cantidad es 20\n"
     ]
    }
   ],
   "source": [
    "### METODO 2 PRACTICA###\n",
    "\n",
    "segunda_lista = [{'nombre': 'camisa', 'precio': 20, 'cantidad': 50},{'nombre': 'pantalon', 'precio': 30, 'cantidad': 20}]\n",
    "\n",
    "for i in segunda_lista: \n",
    "    print(i)\n",
    "\n",
    "for i in segunda_lista: \n",
    "    print(f'El nombre es {i['nombre']}')   \n",
    "\n",
    "for i in segunda_lista: \n",
    "    print(f'El nombre es: {i['nombre']}, el precio es: ${i['precio']}, y la cantidad es {i['cantidad']}')"
   ]
  },
  {
   "cell_type": "code",
   "execution_count": 40,
   "metadata": {},
   "outputs": [
    {
     "name": "stdout",
     "output_type": "stream",
     "text": [
      "pomelo, $10, 50\n"
     ]
    }
   ],
   "source": [
    "### MÉTODO 3: PRÁCTICA ###\n",
    "\n",
    "prod1 = [{'nombre':'pomelo', 'precio': 10, 'cantidad': 50},{'nombre': 'pantalon', 'precio': 30, 'cantidad': 20}]\n",
    "\n",
    "for i in prod1: \n",
    "\n",
    "  if i['nombre'] == 'pomelo':\n",
    "     print(f'{i['nombre']}, ${i['precio']}, {i['cantidad']}')\n",
    "     break \n",
    "  \n",
    "  elif i.get('nombre') not in prod1: \n",
    "     print('No')\n",
    "\n",
    "  "
   ]
  }
 ],
 "metadata": {
  "kernelspec": {
   "display_name": "base",
   "language": "python",
   "name": "python3"
  },
  "language_info": {
   "codemirror_mode": {
    "name": "ipython",
    "version": 3
   },
   "file_extension": ".py",
   "mimetype": "text/x-python",
   "name": "python",
   "nbconvert_exporter": "python",
   "pygments_lexer": "ipython3",
   "version": "3.12.4"
  }
 },
 "nbformat": 4,
 "nbformat_minor": 2
}
