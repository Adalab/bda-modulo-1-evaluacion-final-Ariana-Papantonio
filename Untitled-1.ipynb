{
 "cells": [
  {
   "cell_type": "code",
   "execution_count": 1,
   "metadata": {},
   "outputs": [
    {
     "name": "stdout",
     "output_type": "stream",
     "text": [
      "[{'nombre': 'pomelo', 'precio': 10, 'cantidad': 50}]\n",
      "[{'nombre': 'pomelo', 'precio': 10, 'cantidad': 150}, {'nombre': 'naranja', 'precio': 8, 'cantidad': 160}]\n"
     ]
    }
   ],
   "source": [
    "### METODO 1 PRACTICA### (agregar productos al inventario)\n",
    "\n",
    "#1) Creo una lista vacia para almacenar los productos\n",
    "lista_vacia = []\n",
    "\n",
    "#2) Creo las variables de productos \n",
    "prod1 = {'nombre':'pomelo', 'precio': 10, 'cantidad': 50} \n",
    "prod2 = {'nombre':'pomelo', 'precio': 10, 'cantidad': 100}\n",
    "prod3 = {'nombre': 'naranja', 'precio': 8, 'cantidad': 80}\n",
    "\n",
    "#3) Bucle for para que compruebe si el producto esta en la lista y si esta que se añada la nueva cantidad. En caso que no esté, se añade el producto \n",
    "for prod in lista_vacia:\n",
    "    if prod['nombre'] == prod1['nombre']: \n",
    "        prod['cantidad'] += prod1['cantidad']\n",
    "        break\n",
    "\n",
    "else: \n",
    "    lista_vacia.append(prod1)\n",
    "        \n",
    "print(lista_vacia)\n",
    "\n",
    "for prod in lista_vacia: \n",
    "    if prod['nombre'] == prod2['nombre']: \n",
    "        prod['cantidad'] += prod2['cantidad']\n",
    "        break\n",
    "\n",
    "    else: \n",
    "        lista_vacia.append(prod2)\n",
    "\n",
    "for prod in lista_vacia: \n",
    "    if prod['nombre'] == prod3['nombre']: \n",
    "        prod['cantidad'] += prod3['cantidad']\n",
    "        break\n",
    "\n",
    "    else: \n",
    "        lista_vacia.append(prod3)\n",
    "\n",
    "\n",
    "        \n",
    "print(lista_vacia)"
   ]
  },
  {
   "cell_type": "code",
   "execution_count": 2,
   "metadata": {},
   "outputs": [
    {
     "data": {
      "text/plain": [
       "[{'nombre': 'pomelo', 'precio': 10, 'cantidad': 150},\n",
       " {'nombre': 'naranja', 'precio': 8, 'cantidad': 160}]"
      ]
     },
     "execution_count": 2,
     "metadata": {},
     "output_type": "execute_result"
    }
   ],
   "source": [
    "lista_vacia"
   ]
  },
  {
   "cell_type": "code",
   "execution_count": 3,
   "metadata": {},
   "outputs": [
    {
     "name": "stdout",
     "output_type": "stream",
     "text": [
      "{'nombre': 'camisa', 'precio': 20, 'cantidad': 50}\n",
      "{'nombre': 'pantalon', 'precio': 30, 'cantidad': 20}\n",
      "El nombre es camisa\n",
      "El nombre es pantalon\n",
      "El nombre es: camisa, el precio es: $20, y la cantidad es 50\n",
      "El nombre es: pantalon, el precio es: $30, y la cantidad es 20\n"
     ]
    }
   ],
   "source": [
    "### METODO 2 PRACTICA### (ver inventario)\n",
    "\n",
    "segunda_lista = [{'nombre': 'camisa', 'precio': 20, 'cantidad': 50},{'nombre': 'pantalon', 'precio': 30, 'cantidad': 20}]\n",
    "\n",
    "for i in segunda_lista: \n",
    "    print(i)\n",
    "\n",
    "for i in segunda_lista: \n",
    "    print(f'El nombre es {i['nombre']}')   \n",
    "\n",
    "for i in segunda_lista: \n",
    "    print(f'El nombre es: {i['nombre']}, el precio es: ${i['precio']}, y la cantidad es {i['cantidad']}')"
   ]
  },
  {
   "cell_type": "code",
   "execution_count": 4,
   "metadata": {},
   "outputs": [
    {
     "name": "stdout",
     "output_type": "stream",
     "text": [
      "pomelo, $10, 50\n"
     ]
    }
   ],
   "source": [
    "### MÉTODO 3: PRÁCTICA ### (buscar un producto dentro del inventario)\n",
    "\n",
    "prod1 = [{'nombre':'pomelo', 'precio': 10, 'cantidad': 50},{'nombre': 'pantalon', 'precio': 30, 'cantidad': 20}]\n",
    "\n",
    "for i in prod1: \n",
    "\n",
    "  if i['nombre'] == 'pomelo':\n",
    "     print(f'{i['nombre']}, ${i['precio']}, {i['cantidad']}')\n",
    "     break \n",
    "  \n",
    "  elif i.get('nombre') not in prod1: \n",
    "     print('No')\n",
    "\n",
    "  "
   ]
  },
  {
   "cell_type": "code",
   "execution_count": 5,
   "metadata": {},
   "outputs": [
    {
     "name": "stdout",
     "output_type": "stream",
     "text": [
      "Se ha actualizado el stock. La nueva cantidad de sandía es: 35\n"
     ]
    }
   ],
   "source": [
    "### METODO 4: PRÁCTICA ### (actualizar el stock de un producto en el inventario)\n",
    "\n",
    "prod4 = [{'nombre':'sandía', 'precio': 8, 'cantidad': 30},{'nombre': 'cebolla', 'precio': 5, 'cantidad': 25}]\n",
    "\n",
    "# En la práctica utilizo variables para representar los parámetros que irían en la función: \n",
    "nombre1 = 'sandía'\n",
    "nueva_cantidad = 5\n",
    "\n",
    "for i in prod4: \n",
    "   if i['nombre'] == nombre1: # --> si dentro del diccionario i, clave 'nombre' coincide con la variable nombre\n",
    "      i['cantidad'] += nueva_cantidad # --> se añade a la clave cantidad la nueva cantidad (suma)\n",
    "      print(f'Se ha actualizado el stock. La nueva cantidad de {i['nombre']} es: {i['cantidad']}')\n",
    "      break \n",
    "   \n",
    "else: \n",
    "   print('El nombre no se encuentra en la lista')\n",
    "  \n"
   ]
  },
  {
   "cell_type": "code",
   "execution_count": 6,
   "metadata": {},
   "outputs": [
    {
     "name": "stdout",
     "output_type": "stream",
     "text": [
      "El producto bananas se ha eliminado de la lista.\n"
     ]
    }
   ],
   "source": [
    "### METODO 5: PRÁCTICA ### (eliminar un producto del inventario)\n",
    "\n",
    "\n",
    "prod5 = [{'nombre':'bananas', 'precio': 4, 'cantidad': 10},{'nombre': 'durazno', 'precio': 3, 'cantidad': 15}, {'nombre': 'uva', 'precio': 4, 'cantidad': 8}]\n",
    "\n",
    "\n",
    "# En la práctica utilizo una variable para representar el parametro de nombre que iría en la función: \n",
    "producto_a_eliminar = 'bananas' \n",
    "\n",
    "for i in prod5: \n",
    "    if i['nombre'] == producto_a_eliminar: #si la clave 'nombre' del diccionario coincide con el producto a eliminar\n",
    "        prod5.remove(i) #se elimina ese diccionario\n",
    "        print(f'El producto {producto_a_eliminar} se ha eliminado de la lista.')\n",
    "        break\n",
    "else: \n",
    "    print('El producto no se encuentra en la lista')\n",
    "\n"
   ]
  },
  {
   "cell_type": "code",
   "execution_count": 7,
   "metadata": {},
   "outputs": [
    {
     "name": "stdout",
     "output_type": "stream",
     "text": [
      "[{'nombre': 'durazno', 'precio': 3, 'cantidad': 15}, {'nombre': 'uva', 'precio': 4, 'cantidad': 8}]\n"
     ]
    }
   ],
   "source": [
    "print(prod5)"
   ]
  },
  {
   "cell_type": "code",
   "execution_count": 8,
   "metadata": {},
   "outputs": [
    {
     "name": "stdout",
     "output_type": "stream",
     "text": [
      "El valor total del inventario es de 117\n"
     ]
    }
   ],
   "source": [
    "### METODO 6: PRÁCTICA ###  calcular el valor total del inventario:  \n",
    "\n",
    "inventario1 = [{'nombre':'bananas', 'precio': 4, 'cantidad': 10},{'nombre': 'durazno', 'precio': 3, 'cantidad': 15}, {'nombre': 'uva', 'precio': 4, 'cantidad': 8}]\n",
    "\n",
    "\n",
    "suma_valores = 0\n",
    "\n",
    "for i in inventario1:\n",
    "    multi = i['cantidad'] * i['precio']\n",
    "    suma_valores += multi\n",
    "\n",
    "print(f'El valor total del inventario es de {suma_valores}') #el print va fuera para que no aparezca una linea por cada multi\n",
    "\n",
    "    \n",
    "    \n",
    "\n",
    "    "
   ]
  },
  {
   "cell_type": "code",
   "execution_count": 4,
   "metadata": {},
   "outputs": [
    {
     "name": "stdout",
     "output_type": "stream",
     "text": [
      "Añadido al carrito\n",
      "Total de la compra: $8 [{'nombre': 'banana', 'precio': 4, 'cantidad': 2}]\n"
     ]
    }
   ],
   "source": [
    "##7. `realizar_compra(self)`: Permite a un cliente realizar una compra seleccionando productos del inventario. Debe interactuar con el cliente para seleccionar productos y calcular el costo total de la compra.\n",
    "\n",
    "#  Utiliza un bucle `while` para permitir al cliente realizar múltiples compras.\n",
    "\n",
    "# Muestra el inventario y solicita al cliente ingresar el nombre del producto que desea comprar.\n",
    "\n",
    "# Registra los productos seleccionados en un carrito y actualiza el inventario.\n",
    "\n",
    "#Calcula el costo total de la compra.\n",
    "\n",
    "carrito = []\n",
    " \n",
    "total = 0 \n",
    "\n",
    "\n",
    "while True:\n",
    "\n",
    "    inventario1 = [{'nombre':'banana', 'precio': 4, 'cantidad': 10},{'nombre': 'durazno', 'precio': 3, 'cantidad': 15}, {'nombre': 'uva', 'precio': 4, 'cantidad': 8}]\n",
    "\n",
    "    seleccion_usuario = input(f\"Escoge un producto de las siguientes opciones: {inventario1} o 'salir' para terminar. \")\n",
    "\n",
    "    if seleccion_usuario == 'salir': \n",
    "        break \n",
    "\n",
    "   \n",
    "\n",
    "    for i in inventario1: \n",
    "\n",
    "        if i['nombre'] == seleccion_usuario: \n",
    "            cantidad = int(input(f\"¿Cuántos {seleccion_usuario} desea comprar?: \"))    \n",
    "\n",
    "            if i['cantidad'] >= cantidad: \n",
    "                total += i['precio'] * cantidad\n",
    "                i['cantidad'] -= cantidad \n",
    "                carrito.append({'nombre': i['nombre'], 'precio': i['precio'], 'cantidad': cantidad})\n",
    "                i['cantidad'] -= cantidad\n",
    "\n",
    "                print('Añadido al carrito')\n",
    "            else: \n",
    "                print('No hay stock suficiente')\n",
    "            break \n",
    "    \n",
    "    else: \n",
    "        print('El producto no ha sido encontrado')\n",
    "\n",
    "\n",
    "print(f\"Total de la compra: ${total} {carrito}\")\n",
    "\n",
    "\n",
    "     "
   ]
  },
  {
   "cell_type": "code",
   "execution_count": 6,
   "metadata": {},
   "outputs": [
    {
     "name": "stdout",
     "output_type": "stream",
     "text": [
      "La cantidad ingresada es inferior al monto total de la compra. Por favor, ingresa una cantidad válida.\n",
      "Pago aceptado. El cambio es de $100.0 \n"
     ]
    }
   ],
   "source": [
    "##8 Procesar pago(self): procesa el pago de una compra, calcula el cambio y muestra un mje de confirmación: \n",
    "\n",
    "#Creo bucle para que el user ingrese la cantidad hasta que sea válida\n",
    "while True: \n",
    "\n",
    "    try: #solicito al usuario el total de la compra (float para decimales) y el pago. Utilizo if para comprobar si el pago es menor que la cantidad total (en ese caso se indica que vuelva a ingresar una cantidad válida y un continue para reiniciar el bucle)\n",
    "\n",
    "        total = float(input('Indica el total de la compra'))\n",
    "        pago = float(input('Ingresa el pago'))\n",
    " \n",
    "        if pago < total: \n",
    "            print('La cantidad ingresada es inferior al monto total de la compra. Por favor, ingresa una cantidad válida.')\n",
    "            continue \n",
    "\n",
    "        cambio = pago - total \n",
    "        print(f'Pago aceptado. El cambio es de ${cambio} ')\n",
    "        break \n",
    "\n",
    "    except ValueError: #si el user ingresa un dato que no es válido, se imprime el mensaje de error. \n",
    "        print('La cantidad ingresada no es un número válido')\n"
   ]
  },
  {
   "cell_type": "code",
   "execution_count": 29,
   "metadata": {},
   "outputs": [
    {
     "data": {
      "text/plain": [
       "{'Sonia': 'sonia@gmail.com',\n",
       " 'Maria': 'mariamaria@yahoo.com',\n",
       " 'Juan': 'juan232@gmail.com'}"
      ]
     },
     "execution_count": 29,
     "metadata": {},
     "output_type": "execute_result"
    }
   ],
   "source": [
    "##9 Agregar_cliente(self, nombre, email)`: Agrega un nuevo cliente al registro de clientes. Debe recibir el nombre y el correo electrónico del cliente como parámetros.\n",
    "\n",
    "clientes = {}\n",
    "\n",
    "nombre_cliente = 'Martin'\n",
    "\n",
    "correo_electronico = 'martin.89@gmail.com'\n",
    "\n",
    "\n",
    "clientes['nombre'] = nombre_cliente\n",
    "clientes['email']= correo_electronico\n",
    "\n",
    "clientes\n",
    "\n",
    "#Este método funciona solo para añadir un cliente -- \n",
    "\n",
    "customers = {}\n",
    "\n",
    "name = 'Sonia'\n",
    "\n",
    "email = 'sonia@gmail.com'\n",
    "\n",
    "#utilizo el nombre como key del diccionario\n",
    "customers[name] = email \n",
    "\n",
    "\n",
    "customers['Maria'] = 'mariamaria@yahoo.com'\n",
    "customers['Juan'] = 'juan232@gmail.com'\n",
    "\n",
    "customers\n"
   ]
  },
  {
   "cell_type": "code",
   "execution_count": 45,
   "metadata": {},
   "outputs": [
    {
     "name": "stdout",
     "output_type": "stream",
     "text": [
      "Marta\n",
      "Luis\n",
      "Marta marta2039@hotmail.com\n",
      "Luis luis84@gmail.com\n",
      "Listado de clientes:\n",
      "Nombre: Marta, Correo electrónico: marta2039@hotmail.com\n",
      "Nombre: Luis, Correo electrónico: luis84@gmail.com\n"
     ]
    }
   ],
   "source": [
    "#9 `ver_clientes(self)`: Muestra la lista de clientes registrados con sus nombres y correos electrónicos.\n",
    "\n",
    "#Utiliza un bucle `for` para recorrer la base de datos de clientes.\n",
    "\n",
    "# Imprime los detalles de cada cliente (nombre y correo electrónico).\n",
    "\n",
    "dicc_clientes = {'Marta': 'marta2039@hotmail.com', 'Luis': 'luis84@gmail.com'}\n",
    "\n",
    "for i in dicc_clientes: \n",
    "    print(i) # Solo imprime las claves\n",
    "\n",
    "for i,b in dicc_clientes.items():\n",
    "    print(i,b) #imprime la dupla (clave valor)\n",
    "\n",
    "print('Listado de clientes:')\n",
    "for i,b in dicc_clientes.items():\n",
    "    \n",
    "    print(f\"Nombre: {i}, Correo electrónico: {b}\")\n",
    "\n"
   ]
  },
  {
   "cell_type": "code",
   "execution_count": 31,
   "metadata": {},
   "outputs": [
    {
     "name": "stdout",
     "output_type": "stream",
     "text": [
      "Listado de clientes:\n",
      "Nombre: Marta, Correo: marta2039@hotmail.com\n",
      "Nombre: Luis, Correo: luis84@gmail.com\n"
     ]
    }
   ],
   "source": []
  }
 ],
 "metadata": {
  "kernelspec": {
   "display_name": "base",
   "language": "python",
   "name": "python3"
  },
  "language_info": {
   "codemirror_mode": {
    "name": "ipython",
    "version": 3
   },
   "file_extension": ".py",
   "mimetype": "text/x-python",
   "name": "python",
   "nbconvert_exporter": "python",
   "pygments_lexer": "ipython3",
   "version": "3.12.4"
  }
 },
 "nbformat": 4,
 "nbformat_minor": 2
}
